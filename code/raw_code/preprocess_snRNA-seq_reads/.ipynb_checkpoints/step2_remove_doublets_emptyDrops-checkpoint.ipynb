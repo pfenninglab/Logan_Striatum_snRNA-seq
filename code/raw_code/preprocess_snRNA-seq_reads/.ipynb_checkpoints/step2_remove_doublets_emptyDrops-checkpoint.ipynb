{
 "cells": [
  {
   "cell_type": "code",
   "execution_count": 1,
   "id": "a2052791",
   "metadata": {
    "scrolled": true
   },
   "outputs": [
    {
     "ename": "ERROR",
     "evalue": "Error in library(scds): there is no package called ‘scds’\n",
     "output_type": "error",
     "traceback": [
      "Error in library(scds): there is no package called ‘scds’\nTraceback:\n",
      "1. library(scds)"
     ]
    }
   ],
   "source": [
    "library(Seurat)\n",
    "library(SingleCellExperiment)\n",
    "library(DropletUtils)\n",
    "library(scds)\n",
    "library(Matrix)\n",
    "\n",
    "ss <- function(x, pattern, slot = 1, ...) { \n",
    "  sapply(strsplit(x = x, split = pattern, ...), '[', slot) }\n",
    "options(stringsAsFactors = F)\n",
    "options(repr.plot.width=11, repr.plot.height=8.5)"
   ]
  },
  {
   "cell_type": "code",
   "execution_count": 9,
   "id": "64f9cc05",
   "metadata": {},
   "outputs": [],
   "source": [
    "# read in srna-seq matrix files, these folders should have a barcodes.tsv, genes.tsv, and matrix.mtx files\n",
    "STARsoloDIR= '../../../data/raw_data/STARsolo_out'\n",
    "STARsolo_fn = file.path(STARsoloDIR, c(\"London_DLPFC-1.Solo.out\", \"Memphis_DLPFC-1.Solo.out\"), 'GeneFull/filtered')\n",
    "names(STARsolo_fn) = c(\"London_DLPFC-1\", \"Memphis_DLPFC-1\")\n",
    "sce <- read10xCounts(STARsolo_fn, version = '3')"
   ]
  },
  {
   "cell_type": "markdown",
   "id": "b231442a",
   "metadata": {},
   "source": [
    "# Infer doublets w/ SCDS algorithm"
   ]
  },
  {
   "cell_type": "code",
   "execution_count": 12,
   "id": "41e93ee2",
   "metadata": {},
   "outputs": [
    {
     "name": "stdout",
     "output_type": "stream",
     "text": [
      "[08:25:03] WARNING: amalgamation/../src/learner.cc:1095: Starting in XGBoost 1.3.0, the default evaluation metric used with the objective 'binary:logistic' was changed from 'error' to 'logloss'. Explicitly set eval_metric if you'd like to restore the old behavior.\n"
     ]
    }
   ],
   "source": [
    "sce <- cxds_bcds_hybrid(sce,list(\"retRes\"=TRUE))"
   ]
  },
  {
   "cell_type": "code",
   "execution_count": 14,
   "id": "8ee7275c",
   "metadata": {},
   "outputs": [
    {
     "data": {
      "text/plain": [
       "DataFrame with 33841 rows and 5 columns\n",
       "               Sample          Barcode       cxds_score           bcds_score\n",
       "          <character>      <character>        <numeric>            <numeric>\n",
       "1      London_DLPFC-1 AAACAGCCAACCGCCA 43378.3603333041  0.00318628735840321\n",
       "2      London_DLPFC-1 AAACAGCCACTGGCTG 269062.923709876   0.0493841283023357\n",
       "3      London_DLPFC-1 AAACAGCCACTTAACG 659909.246677727    0.955575585365295\n",
       "4      London_DLPFC-1 AAACAGCCAGGACCAA 170211.659049272  0.00540034472942352\n",
       "5      London_DLPFC-1 AAACAGCCAGGCGAGT 24040.7114497954  0.00221745599992573\n",
       "...               ...              ...              ...                  ...\n",
       "33837 Memphis_DLPFC-1 TTTGTTGGTATTTGGG 87683.5878403367 0.000911889248527586\n",
       "33838 Memphis_DLPFC-1 TTTGTTGGTGAAACAA  93974.168596278  0.00469867093488574\n",
       "33839 Memphis_DLPFC-1 TTTGTTGGTGACCTGG 48576.4302630521  0.00168665987439454\n",
       "33840 Memphis_DLPFC-1 TTTGTTGGTGATGAGG 35635.8516505646 0.000922617386095226\n",
       "33841 Memphis_DLPFC-1 TTTGTTGGTTGCATCT 95905.7514580878    0.041076734662056\n",
       "            hybrid_score\n",
       "               <numeric>\n",
       "1     0.0602539891227986\n",
       "2      0.406646947478486\n",
       "3       1.83628829305203\n",
       "4       0.23107335007807\n",
       "5     0.0335760135035845\n",
       "...                  ...\n",
       "33837  0.116863407179411\n",
       "33838  0.129028408462817\n",
       "33839 0.0656575326223304\n",
       "33840 0.0476886656254283\n",
       "33841  0.168131008088815"
      ]
     },
     "metadata": {},
     "output_type": "display_data"
    },
    {
     "data": {
      "text/plain": [
       "\n",
       "inferred doublet          OK cell \n",
       "            3030            30811 "
      ]
     },
     "metadata": {},
     "output_type": "display_data"
    }
   ],
   "source": [
    "colData(sce)\n",
    "table(ifelse(colData(sce)$hybrid_score < 1.0, 'OK cell', 'inferred doublet'))"
   ]
  },
  {
   "cell_type": "code",
   "execution_count": 17,
   "id": "3332c9d8",
   "metadata": {},
   "outputs": [],
   "source": [
    "sce = sce[, colData(sce)$hybrid_score < 1.0 ]\n",
    "sce_fn = file.path('../../../data/tidy_data/rdas', 'raw_multiomeRNA_DLPFC_sce.rds')\n",
    "saveRDS(sce, sce_fn)"
   ]
  },
  {
   "cell_type": "code",
   "execution_count": null,
   "id": "d1ec60be",
   "metadata": {},
   "outputs": [],
   "source": []
  }
 ],
 "metadata": {
  "kernelspec": {
   "display_name": "r4",
   "language": "R",
   "name": "ir4"
  },
  "language_info": {
   "codemirror_mode": "r",
   "file_extension": ".r",
   "mimetype": "text/x-r-source",
   "name": "R",
   "pygments_lexer": "r",
   "version": "4.0.5"
  }
 },
 "nbformat": 4,
 "nbformat_minor": 5
}
